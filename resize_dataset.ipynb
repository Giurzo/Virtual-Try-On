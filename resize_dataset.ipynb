{
 "cells": [
  {
   "cell_type": "code",
   "execution_count": 1,
   "metadata": {},
   "outputs": [],
   "source": [
    "from glob import glob\n",
    "import os\n",
    "import cv2\n",
    "\n",
    "if not os.path.exists(\"dataset_low\"):\n",
    "    os.mkdir(\"dataset_low\")\n",
    "for root, dirnames, filenames in os.walk('dataset'):\n",
    "    for dirname in dirnames:\n",
    "        old = os.path.join(str(root),str(dirname))\n",
    "        new = old.replace(\"dataset\", \"dataset_low\")\n",
    "        if not os.path.exists(new):\n",
    "            os.mkdir(new)\n",
    "\n",
    "    for filename in filenames:\n",
    "        if filename.endswith(\".png\") or filename.endswith(\".jpg\"):\n",
    "            filename = os.path.join(str(root),str(filename))\n",
    "            img = cv2.imread(filename)\n",
    "            img = cv2.resize(img,(192,256))\n",
    "            filename = filename.replace(\"dataset\", \"dataset_low\")\n",
    "            cv2.imwrite(filename, img)\n",
    "        \n",
    "    #    matches.append(os.path.join(root, filename))"
   ]
  }
 ],
 "metadata": {
  "kernelspec": {
   "display_name": "Python 3.9.6 ('venv': venv)",
   "language": "python",
   "name": "python3"
  },
  "language_info": {
   "codemirror_mode": {
    "name": "ipython",
    "version": 3
   },
   "file_extension": ".py",
   "mimetype": "text/x-python",
   "name": "python",
   "nbconvert_exporter": "python",
   "pygments_lexer": "ipython3",
   "version": "3.9.6"
  },
  "orig_nbformat": 4,
  "vscode": {
   "interpreter": {
    "hash": "15ce8c5ab5f6ecfdc053f441697a5123a305bcbae066728b1d823115abe8612e"
   }
  }
 },
 "nbformat": 4,
 "nbformat_minor": 2
}
