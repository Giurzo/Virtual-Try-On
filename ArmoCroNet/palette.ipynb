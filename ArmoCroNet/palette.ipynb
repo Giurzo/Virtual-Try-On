{
 "cells": [
  {
   "cell_type": "code",
   "execution_count": 216,
   "metadata": {},
   "outputs": [],
   "source": [
    "import cv2\n",
    "import numpy as np"
   ]
  },
  {
   "cell_type": "code",
   "execution_count": 217,
   "metadata": {},
   "outputs": [],
   "source": [
    "def palette(img):\n",
    "    \"\"\"\n",
    "    Return palette in descending order of frequency\n",
    "    \"\"\"\n",
    "    arr = np.asarray(img)\n",
    "    palette, index = np.unique(asvoid(arr).ravel(), return_inverse=True)\n",
    "    palette = palette.view(arr.dtype).reshape(-1, arr.shape[-1])\n",
    "    count = np.bincount(index)\n",
    "    order = np.argsort(count)\n",
    "    return palette[order[::-1]]\n",
    "\n",
    "def asvoid(arr):\n",
    "    \"\"\"View the array as dtype np.void (bytes)\n",
    "    This collapses ND-arrays to 1D-arrays, so you can perform 1D operations on them.\n",
    "    http://stackoverflow.com/a/16216866/190597 (Jaime)\n",
    "    http://stackoverflow.com/a/16840350/190597 (Jaime)\n",
    "    Warning:\n",
    "    >>> asvoid([-0.]) == asvoid([0.])\n",
    "    array([False], dtype=bool)\n",
    "    \"\"\"\n",
    "    arr = np.ascontiguousarray(arr)\n",
    "    return arr.view(np.dtype((np.void, arr.dtype.itemsize * arr.shape[-1])))\n",
    "\n",
    "\n",
    "img = cv2.imread(\"../dataset/upper_body/images/shirts_shirts/12142950cj_0_r.jpg\")\n",
    "\n",
    "C = palette(img)#[:50]"
   ]
  },
  {
   "cell_type": "code",
   "execution_count": 218,
   "metadata": {},
   "outputs": [],
   "source": [
    "P = None\n",
    "n = 0\n",
    "for c in C:\n",
    "    if P is None:\n",
    "        P = np.array(c[None,:])\n",
    "    else:\n",
    "        for d in P:\n",
    "            if ((c-d)**2).sum() > 50:\n",
    "                P = np.concatenate([P,c[None,:]],axis=0)\n",
    "                n += 1\n",
    "                if n > 50:\n",
    "                    break\n",
    "\n",
    "C = P"
   ]
  },
  {
   "cell_type": "code",
   "execution_count": 219,
   "metadata": {},
   "outputs": [],
   "source": [
    "from sklearn.cluster import KMeans, SpectralClustering\n",
    "\n",
    "N_COLS = 5\n",
    "\n",
    "model = KMeans(N_COLS)\n",
    "model.fit(C)\n",
    "C = model.cluster_centers_.astype(np.uint8)"
   ]
  },
  {
   "cell_type": "code",
   "execution_count": 220,
   "metadata": {},
   "outputs": [],
   "source": [
    "import matplotlib\n",
    "\n",
    "def hsv(arr, j):\n",
    "    return matplotlib.colors.rgb_to_hsv(arr)[j]\n",
    "\n",
    "P = np.zeros((200,N_COLS*100,3)).astype(np.uint8)\n",
    "#for j in range(3):\n",
    "j = 2\n",
    "for c in range(N_COLS):\n",
    "    for d in range(N_COLS):\n",
    "        #if hsv(C[c], j) > hsv(C[d], j):\n",
    "        if hsv(C[c], j) > hsv(C[d], j):\n",
    "            tmp = C[c].copy()\n",
    "            C[c] = C[d].copy()\n",
    "            C[d] = tmp.copy()\n",
    "\n",
    "for i, c in enumerate(C):\n",
    "    #P[100*j:100*(1+j),100*i:100*(1+i),:] = c\n",
    "    P[:,100*i:100*(1+i),:] = c\n",
    "\n",
    "\n",
    "cv2.imshow(\"1\",P)\n",
    "cv2.waitKey()\n",
    "cv2.destroyAllWindows()"
   ]
  }
 ],
 "metadata": {
  "kernelspec": {
   "display_name": "Python 3.9.6 ('venv': venv)",
   "language": "python",
   "name": "python3"
  },
  "language_info": {
   "codemirror_mode": {
    "name": "ipython",
    "version": 3
   },
   "file_extension": ".py",
   "mimetype": "text/x-python",
   "name": "python",
   "nbconvert_exporter": "python",
   "pygments_lexer": "ipython3",
   "version": "3.9.6"
  },
  "orig_nbformat": 4,
  "vscode": {
   "interpreter": {
    "hash": "15ce8c5ab5f6ecfdc053f441697a5123a305bcbae066728b1d823115abe8612e"
   }
  }
 },
 "nbformat": 4,
 "nbformat_minor": 2
}
