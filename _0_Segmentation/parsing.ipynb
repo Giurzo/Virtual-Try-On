{
 "cells": [
  {
   "cell_type": "code",
   "execution_count": 14,
   "metadata": {},
   "outputs": [],
   "source": [
    "import numpy as np\n",
    "import pandas as pd\n",
    "import cv2\n",
    "from sklearn import preprocessing\n",
    "\n",
    "import torch\n",
    "import torch.nn.functional as F\n",
    "from torch.utils.data import Dataset, DataLoader\n",
    "\n",
    "import config\n",
    "from tqdm import tqdm"
   ]
  },
  {
   "cell_type": "code",
   "execution_count": 2,
   "metadata": {},
   "outputs": [
    {
     "name": "stdout",
     "output_type": "stream",
     "text": [
      "c:\\Users\\Mirco\\Desktop\\CV_pw\n"
     ]
    }
   ],
   "source": [
    "%cd .."
   ]
  },
  {
   "cell_type": "code",
   "execution_count": 21,
   "metadata": {},
   "outputs": [
    {
     "name": "stderr",
     "output_type": "stream",
     "text": [
      "100%|██████████| 24316/24316 [16:09<00:00, 25.08it/s]\n"
     ]
    }
   ],
   "source": [
    "df = pd.read_csv(\"dataset/yu-vton.csv\")\n",
    "unique = None\n",
    "for f in tqdm(df[\"parsing\"]):\n",
    "    y = cv2.imread(f\"dataset/{f}\", cv2.IMREAD_COLOR)\n",
    "    y = y.astype(np.longlong)\n",
    "    y = y[:,:,0] + y[:,:,1] * 256 + y[:,:,2] * 256 * 256\n",
    "    if unique is None:\n",
    "        unique = np.unique(y)\n",
    "    else:\n",
    "        unique = np.concatenate([unique, np.unique(y)])"
   ]
  },
  {
   "cell_type": "code",
   "execution_count": 22,
   "metadata": {},
   "outputs": [
    {
     "data": {
      "text/plain": [
       "array([       0,      128,    16384,    32768,    32896,  4194304,\n",
       "        4194432,  4227072,  4227200,  8388608,  8404992,  8421376,\n",
       "       12582912, 12583040, 12615680, 12615808], dtype=int64)"
      ]
     },
     "execution_count": 22,
     "metadata": {},
     "output_type": "execute_result"
    }
   ],
   "source": [
    "np.unique(unique)"
   ]
  },
  {
   "cell_type": "code",
   "execution_count": 25,
   "metadata": {},
   "outputs": [],
   "source": [
    "idxs = [0, 128, 16384, 32768, 32896, 4194304, 4194432, 4227072, 4227200, 8388608, 8404992, 8421376, 12582912, 12583040, 12615680, 12615808]"
   ]
  },
  {
   "cell_type": "code",
   "execution_count": 26,
   "metadata": {},
   "outputs": [
    {
     "data": {
      "text/plain": [
       "[0, 1, 2, 3, 4, 5, 6, 7, 8, 9, 10, 11, 12, 13, 14, 15]"
      ]
     },
     "execution_count": 26,
     "metadata": {},
     "output_type": "execute_result"
    }
   ],
   "source": [
    "[i for i in range(len(idxs))]"
   ]
  },
  {
   "cell_type": "code",
   "execution_count": 6,
   "metadata": {},
   "outputs": [
    {
     "name": "stdout",
     "output_type": "stream",
     "text": [
      "8\n",
      "9\n",
      "18\n",
      "19\n",
      "28\n",
      "29\n",
      "38\n",
      "39\n",
      "48\n",
      "49\n",
      "58\n",
      "59\n",
      "68\n",
      "69\n",
      "78\n",
      "79\n",
      "88\n",
      "89\n",
      "98\n",
      "99\n",
      "108\n",
      "109\n",
      "118\n",
      "119\n",
      "128\n",
      "129\n",
      "138\n",
      "139\n",
      "148\n",
      "149\n",
      "158\n",
      "159\n",
      "168\n",
      "169\n",
      "178\n",
      "179\n",
      "188\n",
      "189\n",
      "198\n",
      "199\n",
      "208\n",
      "209\n",
      "218\n",
      "219\n",
      "228\n",
      "229\n",
      "238\n",
      "239\n",
      "248\n",
      "249\n",
      "258\n",
      "259\n",
      "268\n",
      "269\n",
      "278\n",
      "279\n",
      "288\n",
      "289\n",
      "298\n",
      "299\n",
      "308\n",
      "309\n",
      "318\n",
      "319\n",
      "328\n",
      "329\n",
      "338\n",
      "339\n",
      "348\n",
      "349\n",
      "358\n",
      "359\n",
      "368\n",
      "369\n",
      "378\n",
      "379\n",
      "388\n",
      "389\n",
      "398\n",
      "399\n",
      "408\n",
      "409\n",
      "418\n",
      "419\n",
      "428\n",
      "429\n",
      "438\n",
      "439\n",
      "448\n",
      "449\n",
      "458\n",
      "459\n",
      "468\n",
      "469\n",
      "478\n",
      "479\n",
      "488\n",
      "489\n",
      "498\n",
      "499\n"
     ]
    }
   ],
   "source": [
    "for idx in range(100):\n",
    "    print( 8 + 10 * (idx // 2) + idx % 2 )"
   ]
  },
  {
   "cell_type": "code",
   "execution_count": 4,
   "metadata": {},
   "outputs": [
    {
     "name": "stdout",
     "output_type": "stream",
     "text": [
      "0\n",
      "1\n",
      "2\n",
      "3\n",
      "4\n",
      "5\n",
      "6\n",
      "7\n",
      "10\n",
      "11\n",
      "12\n",
      "13\n",
      "14\n",
      "15\n",
      "16\n",
      "17\n",
      "20\n",
      "21\n",
      "22\n",
      "23\n",
      "24\n",
      "25\n",
      "26\n",
      "27\n",
      "30\n",
      "31\n",
      "32\n",
      "33\n",
      "34\n",
      "35\n",
      "36\n",
      "37\n",
      "40\n",
      "41\n",
      "42\n",
      "43\n",
      "44\n",
      "45\n",
      "46\n",
      "47\n",
      "50\n",
      "51\n",
      "52\n",
      "53\n",
      "54\n",
      "55\n",
      "56\n",
      "57\n",
      "60\n",
      "61\n",
      "62\n",
      "63\n",
      "64\n",
      "65\n",
      "66\n",
      "67\n",
      "70\n",
      "71\n",
      "72\n",
      "73\n",
      "74\n",
      "75\n",
      "76\n",
      "77\n",
      "80\n",
      "81\n",
      "82\n",
      "83\n",
      "84\n",
      "85\n",
      "86\n",
      "87\n",
      "90\n",
      "91\n",
      "92\n",
      "93\n",
      "94\n",
      "95\n",
      "96\n",
      "97\n",
      "100\n",
      "101\n",
      "102\n",
      "103\n",
      "104\n",
      "105\n",
      "106\n",
      "107\n",
      "110\n",
      "111\n",
      "112\n",
      "113\n",
      "114\n",
      "115\n",
      "116\n",
      "117\n",
      "120\n",
      "121\n",
      "122\n",
      "123\n"
     ]
    }
   ],
   "source": [
    "for idx in range(100):\n",
    "    print( idx + idx // 8 * 2 )"
   ]
  }
 ],
 "metadata": {
  "kernelspec": {
   "display_name": "Python 3.9.6 ('venv': venv)",
   "language": "python",
   "name": "python3"
  },
  "language_info": {
   "codemirror_mode": {
    "name": "ipython",
    "version": 3
   },
   "file_extension": ".py",
   "mimetype": "text/x-python",
   "name": "python",
   "nbconvert_exporter": "python",
   "pygments_lexer": "ipython3",
   "version": "3.9.6"
  },
  "orig_nbformat": 4,
  "vscode": {
   "interpreter": {
    "hash": "15ce8c5ab5f6ecfdc053f441697a5123a305bcbae066728b1d823115abe8612e"
   }
  }
 },
 "nbformat": 4,
 "nbformat_minor": 2
}
